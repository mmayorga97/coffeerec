{
 "cells": [
  {
   "cell_type": "code",
   "execution_count": 1,
   "metadata": {},
   "outputs": [],
   "source": [
    "import streamlit as st\n",
    "import pandas as pd\n",
    "import numpy as np"
   ]
  },
  {
   "cell_type": "code",
   "execution_count": 1,
   "metadata": {},
   "outputs": [
    {
     "name": "stdout",
     "output_type": "stream",
     "text": [
      "e:\\Code\\coffeerec/app/coffee_may2023.csv\n"
     ]
    },
    {
     "data": {
      "text/plain": [
       "Index(['Unnamed: 0', 'ID', 'Country of Origin', 'Farm Name', 'Lot Number',\n",
       "       'Mill', 'ICO Number', 'Company', 'Altitude', 'Region', 'Producer',\n",
       "       'Number of Bags', 'Bag Weight', 'In-Country Partner', 'Harvest Year',\n",
       "       'Grading Date', 'Owner', 'Variety', 'Status', 'Processing Method',\n",
       "       'Aroma', 'Flavor', 'Aftertaste', 'Acidity', 'Body', 'Balance',\n",
       "       'Uniformity', 'Clean Cup', 'Sweetness', 'Overall', 'Defects',\n",
       "       'Total Cup Points', 'Moisture Percentage', 'Category One Defects',\n",
       "       'Quakers', 'Color', 'Category Two Defects', 'Expiration',\n",
       "       'Certification Body', 'Certification Address', 'Certification Contact'],\n",
       "      dtype='object')"
      ]
     },
     "execution_count": 1,
     "metadata": {},
     "output_type": "execute_result"
    }
   ],
   "source": [
    "import pandas as pd\n",
    "import os\n",
    "\n",
    "data = os.getcwd() + (\"/app/coffee_may2023.csv\")\n",
    "print(data)\n",
    "df = pd.read_csv(data)\n",
    "pd.set_option('display.max_columns', None)\n",
    "df.columns\n"
   ]
  },
  {
   "cell_type": "code",
   "execution_count": 12,
   "metadata": {},
   "outputs": [
    {
     "data": {
      "application/vnd.jupyter.widget-view+json": {
       "model_id": "2f2865f73ce1421dbb62cbb289938b46",
       "version_major": 2,
       "version_minor": 0
      },
      "text/plain": [
       "Summarize dataset:   0%|          | 0/5 [00:00<?, ?it/s]"
      ]
     },
     "metadata": {},
     "output_type": "display_data"
    },
    {
     "data": {
      "application/vnd.jupyter.widget-view+json": {
       "model_id": "23d0c2a100c8468c887d955d2c5342c9",
       "version_major": 2,
       "version_minor": 0
      },
      "text/plain": [
       "Render JSON:   0%|          | 0/1 [00:00<?, ?it/s]"
      ]
     },
     "metadata": {},
     "output_type": "display_data"
    },
    {
     "data": {
      "application/vnd.jupyter.widget-view+json": {
       "model_id": "d8aca79e220d4b85b059b3e50a510900",
       "version_major": 2,
       "version_minor": 0
      },
      "text/plain": [
       "Export report to file:   0%|          | 0/1 [00:00<?, ?it/s]"
      ]
     },
     "metadata": {},
     "output_type": "display_data"
    },
    {
     "data": {
      "application/vnd.jupyter.widget-view+json": {
       "model_id": "0fb795e782c7499caef7bd81609d5dd0",
       "version_major": 2,
       "version_minor": 0
      },
      "text/plain": [
       "Generate report structure:   0%|          | 0/1 [00:00<?, ?it/s]"
      ]
     },
     "metadata": {},
     "output_type": "display_data"
    },
    {
     "data": {
      "application/vnd.jupyter.widget-view+json": {
       "model_id": "1e7ef5e1357e4965a40f10ee2a072015",
       "version_major": 2,
       "version_minor": 0
      },
      "text/plain": [
       "Render HTML:   0%|          | 0/1 [00:00<?, ?it/s]"
      ]
     },
     "metadata": {},
     "output_type": "display_data"
    },
    {
     "data": {
      "application/vnd.jupyter.widget-view+json": {
       "model_id": "815a018bcffb4481959625f3049b5bbb",
       "version_major": 2,
       "version_minor": 0
      },
      "text/plain": [
       "Export report to file:   0%|          | 0/1 [00:00<?, ?it/s]"
      ]
     },
     "metadata": {},
     "output_type": "display_data"
    }
   ],
   "source": [
    "from ydata_profiling import ProfileReport\n",
    "from streamlit_pandas_profiling import st_profile_report\n",
    "\n",
    "pr = ProfileReport(df, minimal=True)\n",
    "\n",
    "pr.to_file(\"app/report.json\")\n",
    "pr.to_file(\"app/report.html\")"
   ]
  },
  {
   "cell_type": "code",
   "execution_count": 10,
   "metadata": {},
   "outputs": [
    {
     "data": {
      "application/vnd.jupyter.widget-view+json": {
       "model_id": "bcd76cf842f542939283c690b444b35b",
       "version_major": 2,
       "version_minor": 0
      },
      "text/plain": [
       "Summarize dataset:   0%|          | 0/5 [00:00<?, ?it/s]"
      ]
     },
     "metadata": {},
     "output_type": "display_data"
    },
    {
     "data": {
      "application/vnd.jupyter.widget-view+json": {
       "model_id": "d02c889693e74638abf6911caf9e0285",
       "version_major": 2,
       "version_minor": 0
      },
      "text/plain": [
       "Render JSON:   0%|          | 0/1 [00:00<?, ?it/s]"
      ]
     },
     "metadata": {},
     "output_type": "display_data"
    },
    {
     "data": {
      "application/vnd.jupyter.widget-view+json": {
       "model_id": "08adf4006ed64f93b08b58bbd28405c5",
       "version_major": 2,
       "version_minor": 0
      },
      "text/plain": [
       "Export report to file:   0%|          | 0/1 [00:00<?, ?it/s]"
      ]
     },
     "metadata": {},
     "output_type": "display_data"
    },
    {
     "data": {
      "application/vnd.jupyter.widget-view+json": {
       "model_id": "20ec266736d44ab4b8c9366375482c72",
       "version_major": 2,
       "version_minor": 0
      },
      "text/plain": [
       "Generate report structure:   0%|          | 0/1 [00:00<?, ?it/s]"
      ]
     },
     "metadata": {},
     "output_type": "display_data"
    },
    {
     "data": {
      "application/vnd.jupyter.widget-view+json": {
       "model_id": "15d90015f9a4443087f8c24ee603b3ed",
       "version_major": 2,
       "version_minor": 0
      },
      "text/plain": [
       "Render HTML:   0%|          | 0/1 [00:00<?, ?it/s]"
      ]
     },
     "metadata": {},
     "output_type": "display_data"
    },
    {
     "data": {
      "application/vnd.jupyter.widget-view+json": {
       "model_id": "63ce6b9e50e64131aa93b7372d10bf03",
       "version_major": 2,
       "version_minor": 0
      },
      "text/plain": [
       "Export report to file:   0%|          | 0/1 [00:00<?, ?it/s]"
      ]
     },
     "metadata": {},
     "output_type": "display_data"
    }
   ],
   "source": []
  },
  {
   "cell_type": "code",
   "execution_count": 21,
   "metadata": {},
   "outputs": [
    {
     "data": {
      "text/html": [
       "<div>\n",
       "<style scoped>\n",
       "    .dataframe tbody tr th:only-of-type {\n",
       "        vertical-align: middle;\n",
       "    }\n",
       "\n",
       "    .dataframe tbody tr th {\n",
       "        vertical-align: top;\n",
       "    }\n",
       "\n",
       "    .dataframe thead th {\n",
       "        text-align: right;\n",
       "    }\n",
       "</style>\n",
       "<table border=\"1\" class=\"dataframe\">\n",
       "  <thead>\n",
       "    <tr style=\"text-align: right;\">\n",
       "      <th></th>\n",
       "      <th>Unnamed: 0</th>\n",
       "      <th>ID</th>\n",
       "      <th>Country of Origin</th>\n",
       "      <th>Farm Name</th>\n",
       "      <th>Lot Number</th>\n",
       "      <th>Mill</th>\n",
       "      <th>ICO Number</th>\n",
       "      <th>Company</th>\n",
       "      <th>Altitude</th>\n",
       "      <th>Region</th>\n",
       "      <th>...</th>\n",
       "      <th>Total Cup Points</th>\n",
       "      <th>Moisture Percentage</th>\n",
       "      <th>Category One Defects</th>\n",
       "      <th>Quakers</th>\n",
       "      <th>Color</th>\n",
       "      <th>Category Two Defects</th>\n",
       "      <th>Expiration</th>\n",
       "      <th>Certification Body</th>\n",
       "      <th>Certification Address</th>\n",
       "      <th>Certification Contact</th>\n",
       "    </tr>\n",
       "  </thead>\n",
       "  <tbody>\n",
       "    <tr>\n",
       "      <th>3</th>\n",
       "      <td>3</td>\n",
       "      <td>3</td>\n",
       "      <td>Costa Rica</td>\n",
       "      <td>La Cumbre</td>\n",
       "      <td>CQU2022017</td>\n",
       "      <td>La Montana Tarrazu MIll</td>\n",
       "      <td>NaN</td>\n",
       "      <td>Coffee Quality Union</td>\n",
       "      <td>1900</td>\n",
       "      <td>Los Santos,Tarrazu</td>\n",
       "      <td>...</td>\n",
       "      <td>87.17</td>\n",
       "      <td>11.8</td>\n",
       "      <td>0</td>\n",
       "      <td>0</td>\n",
       "      <td>green</td>\n",
       "      <td>0</td>\n",
       "      <td>September 21st, 2023</td>\n",
       "      <td>Japan Coffee Exchange</td>\n",
       "      <td>〒413-0002 静岡県熱海市伊豆山１１７３−５８ 1173-58 Izusan, Ata...</td>\n",
       "      <td>松澤　宏樹　Koju Matsuzawa - +81(0)9085642901</td>\n",
       "    </tr>\n",
       "    <tr>\n",
       "      <th>61</th>\n",
       "      <td>61</td>\n",
       "      <td>61</td>\n",
       "      <td>Costa Rica</td>\n",
       "      <td>Gamboa Farm</td>\n",
       "      <td>12075</td>\n",
       "      <td>Beneficio Montañas del Diamante</td>\n",
       "      <td>5-0025-0131</td>\n",
       "      <td>CECA S.A.</td>\n",
       "      <td>1850</td>\n",
       "      <td>Tarrazu</td>\n",
       "      <td>...</td>\n",
       "      <td>84.67</td>\n",
       "      <td>10.0</td>\n",
       "      <td>0</td>\n",
       "      <td>1</td>\n",
       "      <td>green</td>\n",
       "      <td>2</td>\n",
       "      <td>April 18th, 2024</td>\n",
       "      <td>Specialty Coffee Association of Costa Rica</td>\n",
       "      <td>Blvd Rohrmoser, de Prisma Dental 200 norte y 2...</td>\n",
       "      <td>Noelia Villalobos - (506) 2220 0685</td>\n",
       "    </tr>\n",
       "    <tr>\n",
       "      <th>68</th>\n",
       "      <td>68</td>\n",
       "      <td>68</td>\n",
       "      <td>Costa Rica</td>\n",
       "      <td>La Cumbre</td>\n",
       "      <td>CQU2022018</td>\n",
       "      <td>La Montana Tarrazu MIll</td>\n",
       "      <td>NaN</td>\n",
       "      <td>Coffee Quality Union</td>\n",
       "      <td>1900</td>\n",
       "      <td>Los Santos,Tarrazu</td>\n",
       "      <td>...</td>\n",
       "      <td>84.50</td>\n",
       "      <td>11.7</td>\n",
       "      <td>0</td>\n",
       "      <td>1</td>\n",
       "      <td>green</td>\n",
       "      <td>0</td>\n",
       "      <td>October 4th, 2023</td>\n",
       "      <td>Japan Coffee Exchange</td>\n",
       "      <td>〒413-0002 静岡県熱海市伊豆山１１７３−５８ 1173-58 Izusan, Ata...</td>\n",
       "      <td>松澤　宏樹　Koju Matsuzawa - +81(0)9085642901</td>\n",
       "    </tr>\n",
       "    <tr>\n",
       "      <th>93</th>\n",
       "      <td>93</td>\n",
       "      <td>93</td>\n",
       "      <td>Costa Rica</td>\n",
       "      <td>Gamboa Farm</td>\n",
       "      <td>12077-01</td>\n",
       "      <td>Beneficio Montañas del Diamante</td>\n",
       "      <td>5-0025-0132</td>\n",
       "      <td>CECA S.A.</td>\n",
       "      <td>1850</td>\n",
       "      <td>Tarrazu</td>\n",
       "      <td>...</td>\n",
       "      <td>83.92</td>\n",
       "      <td>9.5</td>\n",
       "      <td>0</td>\n",
       "      <td>0</td>\n",
       "      <td>green</td>\n",
       "      <td>2</td>\n",
       "      <td>April 18th, 2024</td>\n",
       "      <td>Specialty Coffee Association of Costa Rica</td>\n",
       "      <td>Blvd Rohrmoser, de Prisma Dental 200 norte y 2...</td>\n",
       "      <td>Noelia Villalobos - (506) 2220 0685</td>\n",
       "    </tr>\n",
       "    <tr>\n",
       "      <th>125</th>\n",
       "      <td>125</td>\n",
       "      <td>125</td>\n",
       "      <td>Costa Rica</td>\n",
       "      <td>Gamboa Farm</td>\n",
       "      <td>12074</td>\n",
       "      <td>Beneficio Montañas del Diamante</td>\n",
       "      <td>5-0025-0130</td>\n",
       "      <td>CECA S.A.</td>\n",
       "      <td>1850</td>\n",
       "      <td>Tarrazu</td>\n",
       "      <td>...</td>\n",
       "      <td>83.33</td>\n",
       "      <td>0.0</td>\n",
       "      <td>0</td>\n",
       "      <td>0</td>\n",
       "      <td>green</td>\n",
       "      <td>3</td>\n",
       "      <td>April 18th, 2024</td>\n",
       "      <td>Specialty Coffee Association of Costa Rica</td>\n",
       "      <td>Blvd Rohrmoser, de Prisma Dental 200 norte y 2...</td>\n",
       "      <td>Noelia Villalobos - (506) 2220 0685</td>\n",
       "    </tr>\n",
       "    <tr>\n",
       "      <th>148</th>\n",
       "      <td>148</td>\n",
       "      <td>148</td>\n",
       "      <td>Costa Rica</td>\n",
       "      <td>AMA EL AROMA Micro lot - Sunrise</td>\n",
       "      <td>The 2022 Pacific Rim Coffee Summit,CR01</td>\n",
       "      <td>Micro mill</td>\n",
       "      <td>NaN</td>\n",
       "      <td>Taiwan Coffee Laboratory</td>\n",
       "      <td>1450</td>\n",
       "      <td>west Villege</td>\n",
       "      <td>...</td>\n",
       "      <td>82.75</td>\n",
       "      <td>11.8</td>\n",
       "      <td>0</td>\n",
       "      <td>0</td>\n",
       "      <td>pale yellow</td>\n",
       "      <td>1</td>\n",
       "      <td>November 15th, 2023</td>\n",
       "      <td>Taiwan Coffee Laboratory 台灣咖啡研究室</td>\n",
       "      <td>QAHWAH CO., LTD 4F, No. 225, Sec. 3, Beixin Rd...</td>\n",
       "      <td>Lin, Jen-An Neil 林仁安 - 886-289116612</td>\n",
       "    </tr>\n",
       "    <tr>\n",
       "      <th>176</th>\n",
       "      <td>176</td>\n",
       "      <td>176</td>\n",
       "      <td>Costa Rica</td>\n",
       "      <td>San Diego Mill</td>\n",
       "      <td>S019194 - P04178</td>\n",
       "      <td>Dosmil</td>\n",
       "      <td>5-0015-0228</td>\n",
       "      <td>Beneficios Volcafé Costa Rica</td>\n",
       "      <td>1500</td>\n",
       "      <td>Corralillo Tarrazu</td>\n",
       "      <td>...</td>\n",
       "      <td>82.00</td>\n",
       "      <td>10.5</td>\n",
       "      <td>1</td>\n",
       "      <td>2</td>\n",
       "      <td>green</td>\n",
       "      <td>8</td>\n",
       "      <td>March 28th, 2024</td>\n",
       "      <td>Specialty Coffee Association of Costa Rica</td>\n",
       "      <td>Blvd Rohrmoser, de Prisma Dental 200 norte y 2...</td>\n",
       "      <td>Noelia Villalobos - (506) 2220 0685</td>\n",
       "    </tr>\n",
       "    <tr>\n",
       "      <th>187</th>\n",
       "      <td>187</td>\n",
       "      <td>187</td>\n",
       "      <td>Costa Rica</td>\n",
       "      <td>HACIENDA SAN IGNACIO</td>\n",
       "      <td>OIC 5-019-0037/ Contenedor: DRYU3106597 / Clie...</td>\n",
       "      <td>Beneficio La Giorgia</td>\n",
       "      <td>NaN</td>\n",
       "      <td>Grupo ECOM</td>\n",
       "      <td>1200</td>\n",
       "      <td>occidente</td>\n",
       "      <td>...</td>\n",
       "      <td>81.58</td>\n",
       "      <td>9.7</td>\n",
       "      <td>0</td>\n",
       "      <td>2</td>\n",
       "      <td>green</td>\n",
       "      <td>4</td>\n",
       "      <td>March 28th, 2024</td>\n",
       "      <td>Specialty Coffee Association of Costa Rica</td>\n",
       "      <td>Blvd Rohrmoser, de Prisma Dental 200 norte y 2...</td>\n",
       "      <td>Noelia Villalobos - (506) 2220 0685</td>\n",
       "    </tr>\n",
       "  </tbody>\n",
       "</table>\n",
       "<p>8 rows × 41 columns</p>\n",
       "</div>"
      ],
      "text/plain": [
       "     Unnamed: 0   ID Country of Origin                         Farm Name   \n",
       "3             3    3        Costa Rica                         La Cumbre  \\\n",
       "61           61   61        Costa Rica                       Gamboa Farm   \n",
       "68           68   68        Costa Rica                         La Cumbre   \n",
       "93           93   93        Costa Rica                       Gamboa Farm   \n",
       "125         125  125        Costa Rica                       Gamboa Farm   \n",
       "148         148  148        Costa Rica  AMA EL AROMA Micro lot - Sunrise   \n",
       "176         176  176        Costa Rica                    San Diego Mill   \n",
       "187         187  187        Costa Rica              HACIENDA SAN IGNACIO   \n",
       "\n",
       "                                            Lot Number   \n",
       "3                                           CQU2022017  \\\n",
       "61                                               12075   \n",
       "68                                          CQU2022018   \n",
       "93                                            12077-01   \n",
       "125                                              12074   \n",
       "148            The 2022 Pacific Rim Coffee Summit,CR01   \n",
       "176                                   S019194 - P04178   \n",
       "187  OIC 5-019-0037/ Contenedor: DRYU3106597 / Clie...   \n",
       "\n",
       "                                Mill   ICO Number   \n",
       "3            La Montana Tarrazu MIll          NaN  \\\n",
       "61   Beneficio Montañas del Diamante  5-0025-0131   \n",
       "68           La Montana Tarrazu MIll          NaN   \n",
       "93   Beneficio Montañas del Diamante  5-0025-0132   \n",
       "125  Beneficio Montañas del Diamante  5-0025-0130   \n",
       "148                       Micro mill          NaN   \n",
       "176                           Dosmil  5-0015-0228   \n",
       "187             Beneficio La Giorgia          NaN   \n",
       "\n",
       "                           Company Altitude              Region  ...   \n",
       "3             Coffee Quality Union     1900  Los Santos,Tarrazu  ...  \\\n",
       "61                       CECA S.A.     1850             Tarrazu  ...   \n",
       "68            Coffee Quality Union     1900  Los Santos,Tarrazu  ...   \n",
       "93                       CECA S.A.     1850             Tarrazu  ...   \n",
       "125                      CECA S.A.     1850             Tarrazu  ...   \n",
       "148       Taiwan Coffee Laboratory     1450        west Villege  ...   \n",
       "176  Beneficios Volcafé Costa Rica     1500  Corralillo Tarrazu  ...   \n",
       "187                     Grupo ECOM     1200           occidente  ...   \n",
       "\n",
       "    Total Cup Points  Moisture Percentage Category One Defects Quakers   \n",
       "3              87.17                 11.8                    0       0  \\\n",
       "61             84.67                 10.0                    0       1   \n",
       "68             84.50                 11.7                    0       1   \n",
       "93             83.92                  9.5                    0       0   \n",
       "125            83.33                  0.0                    0       0   \n",
       "148            82.75                 11.8                    0       0   \n",
       "176            82.00                 10.5                    1       2   \n",
       "187            81.58                  9.7                    0       2   \n",
       "\n",
       "           Color Category Two Defects            Expiration   \n",
       "3          green                    0  September 21st, 2023  \\\n",
       "61         green                    2      April 18th, 2024   \n",
       "68         green                    0     October 4th, 2023   \n",
       "93         green                    2      April 18th, 2024   \n",
       "125        green                    3      April 18th, 2024   \n",
       "148  pale yellow                    1   November 15th, 2023   \n",
       "176        green                    8      March 28th, 2024   \n",
       "187        green                    4      March 28th, 2024   \n",
       "\n",
       "                             Certification Body   \n",
       "3                         Japan Coffee Exchange  \\\n",
       "61   Specialty Coffee Association of Costa Rica   \n",
       "68                        Japan Coffee Exchange   \n",
       "93   Specialty Coffee Association of Costa Rica   \n",
       "125  Specialty Coffee Association of Costa Rica   \n",
       "148            Taiwan Coffee Laboratory 台灣咖啡研究室   \n",
       "176  Specialty Coffee Association of Costa Rica   \n",
       "187  Specialty Coffee Association of Costa Rica   \n",
       "\n",
       "                                 Certification Address   \n",
       "3    〒413-0002 静岡県熱海市伊豆山１１７３−５８ 1173-58 Izusan, Ata...  \\\n",
       "61   Blvd Rohrmoser, de Prisma Dental 200 norte y 2...   \n",
       "68   〒413-0002 静岡県熱海市伊豆山１１７３−５８ 1173-58 Izusan, Ata...   \n",
       "93   Blvd Rohrmoser, de Prisma Dental 200 norte y 2...   \n",
       "125  Blvd Rohrmoser, de Prisma Dental 200 norte y 2...   \n",
       "148  QAHWAH CO., LTD 4F, No. 225, Sec. 3, Beixin Rd...   \n",
       "176  Blvd Rohrmoser, de Prisma Dental 200 norte y 2...   \n",
       "187  Blvd Rohrmoser, de Prisma Dental 200 norte y 2...   \n",
       "\n",
       "                       Certification Contact  \n",
       "3    松澤　宏樹　Koju Matsuzawa - +81(0)9085642901  \n",
       "61       Noelia Villalobos - (506) 2220 0685  \n",
       "68   松澤　宏樹　Koju Matsuzawa - +81(0)9085642901  \n",
       "93       Noelia Villalobos - (506) 2220 0685  \n",
       "125      Noelia Villalobos - (506) 2220 0685  \n",
       "148     Lin, Jen-An Neil 林仁安 - 886-289116612  \n",
       "176      Noelia Villalobos - (506) 2220 0685  \n",
       "187      Noelia Villalobos - (506) 2220 0685  \n",
       "\n",
       "[8 rows x 41 columns]"
      ]
     },
     "execution_count": 21,
     "metadata": {},
     "output_type": "execute_result"
    }
   ],
   "source": [
    "df[(df['Country of Origin'] == \"Costa Rica\")]\n"
   ]
  },
  {
   "cell_type": "code",
   "execution_count": 34,
   "metadata": {},
   "outputs": [
    {
     "ename": "TypeError",
     "evalue": "can only concatenate str (not \"float\") to str",
     "output_type": "error",
     "traceback": [
      "\u001b[1;31m---------------------------------------------------------------------------\u001b[0m",
      "\u001b[1;31mTypeError\u001b[0m                                 Traceback (most recent call last)",
      "File \u001b[1;32mc:\\Users\\squal\\anaconda3\\envs\\stb3\\lib\\site-packages\\pandas\\core\\ops\\array_ops.py:164\u001b[0m, in \u001b[0;36m_na_arithmetic_op\u001b[1;34m(left, right, op, is_cmp)\u001b[0m\n\u001b[0;32m    163\u001b[0m \u001b[39mtry\u001b[39;00m:\n\u001b[1;32m--> 164\u001b[0m     result \u001b[39m=\u001b[39m func(left, right)\n\u001b[0;32m    165\u001b[0m \u001b[39mexcept\u001b[39;00m \u001b[39mTypeError\u001b[39;00m:\n",
      "File \u001b[1;32mc:\\Users\\squal\\anaconda3\\envs\\stb3\\lib\\site-packages\\pandas\\core\\computation\\expressions.py:239\u001b[0m, in \u001b[0;36mevaluate\u001b[1;34m(op, a, b, use_numexpr)\u001b[0m\n\u001b[0;32m    237\u001b[0m     \u001b[39mif\u001b[39;00m use_numexpr:\n\u001b[0;32m    238\u001b[0m         \u001b[39m# error: \"None\" not callable\u001b[39;00m\n\u001b[1;32m--> 239\u001b[0m         \u001b[39mreturn\u001b[39;00m _evaluate(op, op_str, a, b)  \u001b[39m# type: ignore[misc]\u001b[39;00m\n\u001b[0;32m    240\u001b[0m \u001b[39mreturn\u001b[39;00m _evaluate_standard(op, op_str, a, b)\n",
      "File \u001b[1;32mc:\\Users\\squal\\anaconda3\\envs\\stb3\\lib\\site-packages\\pandas\\core\\computation\\expressions.py:70\u001b[0m, in \u001b[0;36m_evaluate_standard\u001b[1;34m(op, op_str, a, b)\u001b[0m\n\u001b[0;32m     69\u001b[0m     _store_test_result(\u001b[39mFalse\u001b[39;00m)\n\u001b[1;32m---> 70\u001b[0m \u001b[39mreturn\u001b[39;00m op(a, b)\n",
      "\u001b[1;31mTypeError\u001b[0m: can only concatenate str (not \"float\") to str",
      "\nDuring handling of the above exception, another exception occurred:\n",
      "\u001b[1;31mTypeError\u001b[0m                                 Traceback (most recent call last)",
      "Cell \u001b[1;32mIn[34], line 20\u001b[0m\n\u001b[0;32m      6\u001b[0m \u001b[39m'''\u001b[39;00m\n\u001b[0;32m      7\u001b[0m \u001b[39mdata = pd.DataFrame({\u001b[39;00m\n\u001b[0;32m      8\u001b[0m \u001b[39m    'title': ['Movie A', 'Movie B', 'Movie C', 'Movie D'],\u001b[39;00m\n\u001b[1;32m   (...)\u001b[0m\n\u001b[0;32m     15\u001b[0m \u001b[39m})\u001b[39;00m\n\u001b[0;32m     16\u001b[0m \u001b[39m'''\u001b[39;00m\n\u001b[0;32m     18\u001b[0m data\u001b[39m=\u001b[39mdf\n\u001b[1;32m---> 20\u001b[0m data[\u001b[39m'\u001b[39m\u001b[39mitem_features\u001b[39m\u001b[39m'\u001b[39m] \u001b[39m=\u001b[39m data[\u001b[39m'\u001b[39;49m\u001b[39mCountry of Origin\u001b[39;49m\u001b[39m'\u001b[39;49m] \u001b[39m+\u001b[39;49m \u001b[39m'\u001b[39;49m\u001b[39m \u001b[39;49m\u001b[39m'\u001b[39;49m \u001b[39m+\u001b[39;49m data[\u001b[39m'\u001b[39;49m\u001b[39mVariety\u001b[39;49m\u001b[39m'\u001b[39;49m] \u001b[39m+\u001b[39;49m \u001b[39m'\u001b[39;49m\u001b[39m \u001b[39;49m\u001b[39m'\u001b[39;49m \u001b[39m+\u001b[39;49m data[\u001b[39m'\u001b[39;49m\u001b[39mAroma\u001b[39;49m\u001b[39m'\u001b[39;49m]\u001b[39m+\u001b[39m \u001b[39m'\u001b[39m\u001b[39m \u001b[39m\u001b[39m'\u001b[39m \u001b[39m+\u001b[39m data[\u001b[39m'\u001b[39m\u001b[39mFlavor\u001b[39m\u001b[39m'\u001b[39m]\u001b[39m+\u001b[39m\u001b[39m'\u001b[39m\u001b[39m \u001b[39m\u001b[39m'\u001b[39m \u001b[39m+\u001b[39m data[\u001b[39m'\u001b[39m\u001b[39mAftertaste\u001b[39m\u001b[39m'\u001b[39m]\u001b[39m+\u001b[39m\u001b[39m'\u001b[39m\u001b[39m \u001b[39m\u001b[39m'\u001b[39m \u001b[39m+\u001b[39m data[\u001b[39m'\u001b[39m\u001b[39mSweetness\u001b[39m\u001b[39m'\u001b[39m]\n\u001b[0;32m     22\u001b[0m \u001b[39m# Create a TF-IDF vectorizer to convert descriptions into feature vectors\u001b[39;00m\n\u001b[0;32m     23\u001b[0m tfidf_vectorizer \u001b[39m=\u001b[39m TfidfVectorizer(stop_words\u001b[39m=\u001b[39m\u001b[39m'\u001b[39m\u001b[39menglish\u001b[39m\u001b[39m'\u001b[39m)\n",
      "File \u001b[1;32mc:\\Users\\squal\\anaconda3\\envs\\stb3\\lib\\site-packages\\pandas\\core\\ops\\common.py:81\u001b[0m, in \u001b[0;36m_unpack_zerodim_and_defer.<locals>.new_method\u001b[1;34m(self, other)\u001b[0m\n\u001b[0;32m     77\u001b[0m             \u001b[39mreturn\u001b[39;00m \u001b[39mNotImplemented\u001b[39m\n\u001b[0;32m     79\u001b[0m other \u001b[39m=\u001b[39m item_from_zerodim(other)\n\u001b[1;32m---> 81\u001b[0m \u001b[39mreturn\u001b[39;00m method(\u001b[39mself\u001b[39;49m, other)\n",
      "File \u001b[1;32mc:\\Users\\squal\\anaconda3\\envs\\stb3\\lib\\site-packages\\pandas\\core\\arraylike.py:186\u001b[0m, in \u001b[0;36mOpsMixin.__add__\u001b[1;34m(self, other)\u001b[0m\n\u001b[0;32m     98\u001b[0m \u001b[39m@unpack_zerodim_and_defer\u001b[39m(\u001b[39m\"\u001b[39m\u001b[39m__add__\u001b[39m\u001b[39m\"\u001b[39m)\n\u001b[0;32m     99\u001b[0m \u001b[39mdef\u001b[39;00m \u001b[39m__add__\u001b[39m(\u001b[39mself\u001b[39m, other):\n\u001b[0;32m    100\u001b[0m \u001b[39m    \u001b[39m\u001b[39m\"\"\"\u001b[39;00m\n\u001b[0;32m    101\u001b[0m \u001b[39m    Get Addition of DataFrame and other, column-wise.\u001b[39;00m\n\u001b[0;32m    102\u001b[0m \n\u001b[1;32m   (...)\u001b[0m\n\u001b[0;32m    184\u001b[0m \u001b[39m    moose     3.0     NaN\u001b[39;00m\n\u001b[0;32m    185\u001b[0m \u001b[39m    \"\"\"\u001b[39;00m\n\u001b[1;32m--> 186\u001b[0m     \u001b[39mreturn\u001b[39;00m \u001b[39mself\u001b[39;49m\u001b[39m.\u001b[39;49m_arith_method(other, operator\u001b[39m.\u001b[39;49madd)\n",
      "File \u001b[1;32mc:\\Users\\squal\\anaconda3\\envs\\stb3\\lib\\site-packages\\pandas\\core\\series.py:6113\u001b[0m, in \u001b[0;36mSeries._arith_method\u001b[1;34m(self, other, op)\u001b[0m\n\u001b[0;32m   6111\u001b[0m \u001b[39mdef\u001b[39;00m \u001b[39m_arith_method\u001b[39m(\u001b[39mself\u001b[39m, other, op):\n\u001b[0;32m   6112\u001b[0m     \u001b[39mself\u001b[39m, other \u001b[39m=\u001b[39m ops\u001b[39m.\u001b[39malign_method_SERIES(\u001b[39mself\u001b[39m, other)\n\u001b[1;32m-> 6113\u001b[0m     \u001b[39mreturn\u001b[39;00m base\u001b[39m.\u001b[39;49mIndexOpsMixin\u001b[39m.\u001b[39;49m_arith_method(\u001b[39mself\u001b[39;49m, other, op)\n",
      "File \u001b[1;32mc:\\Users\\squal\\anaconda3\\envs\\stb3\\lib\\site-packages\\pandas\\core\\base.py:1348\u001b[0m, in \u001b[0;36mIndexOpsMixin._arith_method\u001b[1;34m(self, other, op)\u001b[0m\n\u001b[0;32m   1345\u001b[0m rvalues \u001b[39m=\u001b[39m ensure_wrapped_if_datetimelike(rvalues)\n\u001b[0;32m   1347\u001b[0m \u001b[39mwith\u001b[39;00m np\u001b[39m.\u001b[39merrstate(\u001b[39mall\u001b[39m\u001b[39m=\u001b[39m\u001b[39m\"\u001b[39m\u001b[39mignore\u001b[39m\u001b[39m\"\u001b[39m):\n\u001b[1;32m-> 1348\u001b[0m     result \u001b[39m=\u001b[39m ops\u001b[39m.\u001b[39;49marithmetic_op(lvalues, rvalues, op)\n\u001b[0;32m   1350\u001b[0m \u001b[39mreturn\u001b[39;00m \u001b[39mself\u001b[39m\u001b[39m.\u001b[39m_construct_result(result, name\u001b[39m=\u001b[39mres_name)\n",
      "File \u001b[1;32mc:\\Users\\squal\\anaconda3\\envs\\stb3\\lib\\site-packages\\pandas\\core\\ops\\array_ops.py:225\u001b[0m, in \u001b[0;36marithmetic_op\u001b[1;34m(left, right, op)\u001b[0m\n\u001b[0;32m    221\u001b[0m     _bool_arith_check(op, left, right)\n\u001b[0;32m    223\u001b[0m     \u001b[39m# error: Argument 1 to \"_na_arithmetic_op\" has incompatible type\u001b[39;00m\n\u001b[0;32m    224\u001b[0m     \u001b[39m# \"Union[ExtensionArray, ndarray[Any, Any]]\"; expected \"ndarray[Any, Any]\"\u001b[39;00m\n\u001b[1;32m--> 225\u001b[0m     res_values \u001b[39m=\u001b[39m _na_arithmetic_op(left, right, op)  \u001b[39m# type: ignore[arg-type]\u001b[39;00m\n\u001b[0;32m    227\u001b[0m \u001b[39mreturn\u001b[39;00m res_values\n",
      "File \u001b[1;32mc:\\Users\\squal\\anaconda3\\envs\\stb3\\lib\\site-packages\\pandas\\core\\ops\\array_ops.py:171\u001b[0m, in \u001b[0;36m_na_arithmetic_op\u001b[1;34m(left, right, op, is_cmp)\u001b[0m\n\u001b[0;32m    165\u001b[0m \u001b[39mexcept\u001b[39;00m \u001b[39mTypeError\u001b[39;00m:\n\u001b[0;32m    166\u001b[0m     \u001b[39mif\u001b[39;00m \u001b[39mnot\u001b[39;00m is_cmp \u001b[39mand\u001b[39;00m (is_object_dtype(left\u001b[39m.\u001b[39mdtype) \u001b[39mor\u001b[39;00m is_object_dtype(right)):\n\u001b[0;32m    167\u001b[0m         \u001b[39m# For object dtype, fallback to a masked operation (only operating\u001b[39;00m\n\u001b[0;32m    168\u001b[0m         \u001b[39m#  on the non-missing values)\u001b[39;00m\n\u001b[0;32m    169\u001b[0m         \u001b[39m# Don't do this for comparisons, as that will handle complex numbers\u001b[39;00m\n\u001b[0;32m    170\u001b[0m         \u001b[39m#  incorrectly, see GH#32047\u001b[39;00m\n\u001b[1;32m--> 171\u001b[0m         result \u001b[39m=\u001b[39m _masked_arith_op(left, right, op)\n\u001b[0;32m    172\u001b[0m     \u001b[39melse\u001b[39;00m:\n\u001b[0;32m    173\u001b[0m         \u001b[39mraise\u001b[39;00m\n",
      "File \u001b[1;32mc:\\Users\\squal\\anaconda3\\envs\\stb3\\lib\\site-packages\\pandas\\core\\ops\\array_ops.py:109\u001b[0m, in \u001b[0;36m_masked_arith_op\u001b[1;34m(x, y, op)\u001b[0m\n\u001b[0;32m    107\u001b[0m     \u001b[39m# See GH#5284, GH#5035, GH#19448 for historical reference\u001b[39;00m\n\u001b[0;32m    108\u001b[0m     \u001b[39mif\u001b[39;00m mask\u001b[39m.\u001b[39many():\n\u001b[1;32m--> 109\u001b[0m         result[mask] \u001b[39m=\u001b[39m op(xrav[mask], yrav[mask])\n\u001b[0;32m    111\u001b[0m \u001b[39melse\u001b[39;00m:\n\u001b[0;32m    112\u001b[0m     \u001b[39mif\u001b[39;00m \u001b[39mnot\u001b[39;00m is_scalar(y):\n",
      "\u001b[1;31mTypeError\u001b[0m: can only concatenate str (not \"float\") to str"
     ]
    }
   ],
   "source": [
    "import pandas as pd\n",
    "from sklearn.feature_extraction.text import TfidfVectorizer\n",
    "from sklearn.metrics.pairwise import linear_kernel\n",
    "from sklearn.preprocessing import MinMaxScaler\n",
    "\n",
    "\n",
    "# Sample data: movies dataset with 'title' and 'description' columns\n",
    "'''\n",
    "data = pd.DataFrame({\n",
    "    'title': ['Movie A', 'Movie B', 'Movie C', 'Movie D'],\n",
    "    'description': [\n",
    "        'This is a thrilling action movie with explosions and car chases.',\n",
    "        'A heartwarming comedy about friends on a road trip.',\n",
    "        'A drama about love, loss, and redemption.',\n",
    "        'An animated adventure with talking animals.'\n",
    "    ]\n",
    "})\n",
    "'''\n",
    "\n",
    "data=df\n",
    "\n",
    "data['item_features'] = data['Country of Origin'] + ' ' + data['Variety'] + ' ' + data['Aroma']+ ' ' + data['Flavor']+' ' + data['Aftertaste']+' ' + data['Sweetness']\n",
    "\n",
    "scaler = MinMaxScaler()\n",
    "data['rating_normalized'] = scaler.fit_transform(data['rating'].values.reshape(-1, 1))\n",
    "\n",
    "# Create a TF-IDF vectorizer to convert descriptions into feature vectors\n",
    "tfidf_vectorizer = TfidfVectorizer(stop_words='english')\n",
    "tfidf_matrix = tfidf_vectorizer.fit_transform(data['item_features'])\n",
    "\n",
    "# Calculate the cosine similarity between item descriptions\n",
    "cosine_sim = linear_kernel(tfidf_matrix, tfidf_matrix)\n",
    "\n",
    "# Function to get movie recommendations based on movie title\n",
    "def get_recommendations(title, cosine_similarities):\n",
    "    idx = data.index[data['Company'] == title].tolist()[0]\n",
    "    sim_scores = list(enumerate(cosine_similarities[idx]))\n",
    "    sim_scores = sorted(sim_scores, key=lambda x: x[1], reverse=True)\n",
    "    sim_scores = sim_scores[1:]  # Exclude the movie itself (most similar)\n",
    "    movie_indices = [i[0] for i in sim_scores]\n",
    "    return data['Farm Name'].iloc[movie_indices]\n",
    "\n",
    "# Example: Get recommendations for 'Movie A'\n",
    "recommendations = get_recommendations('CECA S.A.', cosine_sim)\n",
    "print(recommendations)\n"
   ]
  },
  {
   "cell_type": "code",
   "execution_count": 4,
   "metadata": {},
   "outputs": [
    {
     "name": "stdout",
     "output_type": "stream",
     "text": [
      "2    Movie C\n",
      "3    Movie D\n",
      "1    Movie B\n",
      "Name: title, dtype: object\n"
     ]
    }
   ],
   "source": [
    "import pandas as pd\n",
    "from sklearn.feature_extraction.text import TfidfVectorizer\n",
    "from sklearn.preprocessing import MinMaxScaler\n",
    "from sklearn.metrics.pairwise import linear_kernel\n",
    "\n",
    "# Sample data: movies dataset with 'title', 'description', 'genres', 'actors', and 'rating' columns\n",
    "data = pd.DataFrame({\n",
    "    'title': ['Movie A', 'Movie B', 'Movie C', 'Movie D'],\n",
    "    'description': [\n",
    "        'This is a thrilling action movie with explosions and car chases.',\n",
    "        'A heartwarming comedy about friends on a road trip.',\n",
    "        'A drama about love, loss, and redemption.',\n",
    "        'An animated adventure with talking animals.'\n",
    "    ],\n",
    "    'genres': [\n",
    "        'Action',\n",
    "        'Comedy',\n",
    "        'Drama',\n",
    "        'Animation'\n",
    "    ],\n",
    "    'actors': [\n",
    "        'Actor A, Actor B',\n",
    "        'Actor C, Actor D',\n",
    "        'Actor A, Actor E',\n",
    "        'Actor F, Actor G'\n",
    "    ],\n",
    "    'rating': [4.2, 3.8, 4.5, 4.0]\n",
    "})\n",
    "\n",
    "# Concatenate multiple columns into a single feature column for item representation\n",
    "data['item_features'] = data['description'] + ' ' + data['genres'] + ' ' + data['actors']\n",
    "\n",
    "# Normalize 'rating' column to [0, 1] range for feature representation\n",
    "scaler = MinMaxScaler()\n",
    "data['rating_normalized'] = scaler.fit_transform(data['rating'].values.reshape(-1, 1))\n",
    "\n",
    "# Create a TF-IDF vectorizer to convert item_features into feature vectors\n",
    "tfidf_vectorizer = TfidfVectorizer(stop_words='english')\n",
    "tfidf_matrix = tfidf_vectorizer.fit_transform(data['item_features'])\n",
    "\n",
    "# Combine the TF-IDF matrix with the normalized 'rating' column\n",
    "tfidf_matrix_with_rating = pd.concat([pd.DataFrame(tfidf_matrix.toarray()), data['rating_normalized']], axis=1)\n",
    "\n",
    "# Calculate the cosine similarity between items\n",
    "cosine_sim = linear_kernel(tfidf_matrix_with_rating, tfidf_matrix_with_rating)\n",
    "\n",
    "# Function to get movie recommendations based on movie title\n",
    "def get_recommendations(title, cosine_similarities, data):\n",
    "    idx = data.index[data['title'] == title].tolist()[0]\n",
    "    sim_scores = list(enumerate(cosine_similarities[idx]))\n",
    "    sim_scores = sorted(sim_scores, key=lambda x: x[1], reverse=True)\n",
    "    sim_scores = sim_scores[1:]  # Exclude the movie itself (most similar)\n",
    "    movie_indices = [i[0] for i in sim_scores]\n",
    "    return data['title'].iloc[movie_indices]\n",
    "\n",
    "# Example: Get recommendations for 'Movie A'\n",
    "recommendations = get_recommendations('Movie A', cosine_sim, data)\n",
    "print(recommendations)\n"
   ]
  }
 ],
 "metadata": {
  "kernelspec": {
   "display_name": "coffeerec",
   "language": "python",
   "name": "python3"
  },
  "language_info": {
   "codemirror_mode": {
    "name": "ipython",
    "version": 3
   },
   "file_extension": ".py",
   "mimetype": "text/x-python",
   "name": "python",
   "nbconvert_exporter": "python",
   "pygments_lexer": "ipython3",
   "version": "3.11.0"
  },
  "orig_nbformat": 4
 },
 "nbformat": 4,
 "nbformat_minor": 2
}
